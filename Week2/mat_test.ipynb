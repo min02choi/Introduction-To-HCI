{
 "cells": [
  {
   "cell_type": "code",
   "execution_count": 2,
   "id": "initial_id",
   "metadata": {
    "collapsed": true,
    "ExecuteTime": {
     "end_time": "2023-09-12T06:56:58.592531Z",
     "start_time": "2023-09-12T06:56:56.997214Z"
    }
   },
   "outputs": [],
   "source": [
    "from scipy import io"
   ]
  },
  {
   "cell_type": "code",
   "execution_count": 3,
   "outputs": [],
   "source": [
    "mat_file = io.loadmat('/Users/min02choi/IdeaProjects/Introduction-To-HCI/Week2/eyedata.mat')"
   ],
   "metadata": {
    "collapsed": false,
    "ExecuteTime": {
     "end_time": "2023-09-12T06:57:47.983204Z",
     "start_time": "2023-09-12T06:57:47.976228Z"
    }
   },
   "id": "4ebe0cdaae5f0b05"
  },
  {
   "cell_type": "code",
   "execution_count": 4,
   "outputs": [
    {
     "data": {
      "text/plain": "{'__header__': b'MATLAB 5.0 MAT-file Platform: nt, Created on: Thu Sep 16 09:40:33 2021',\n '__version__': '1.0',\n '__globals__': [],\n 'block': array([[array([[1]], dtype=uint8)]], dtype=object),\n 'trial': array([[array([[268]], dtype=uint16)]], dtype=object),\n 'eyeData': array([[array([[   521.74683544,    371.328     ],\n                [   521.74683544,    369.216     ],\n                [   518.96202532,    364.992     ],\n                ...,\n                [   246.25316456,    122.112     ],\n                [ -1126.2721519 ,   -849.916     ],\n                [-19916.29113924, -14551.752     ]])]], dtype=object)}"
     },
     "execution_count": 4,
     "metadata": {},
     "output_type": "execute_result"
    }
   ],
   "source": [
    "mat_file"
   ],
   "metadata": {
    "collapsed": false,
    "ExecuteTime": {
     "end_time": "2023-09-12T06:58:03.001628Z",
     "start_time": "2023-09-12T06:58:02.996765Z"
    }
   },
   "id": "f0d3f53c25b89d97"
  },
  {
   "cell_type": "code",
   "execution_count": 9,
   "outputs": [
    {
     "data": {
      "text/plain": "array([[   521.74683544,    371.328     ],\n       [   521.74683544,    369.216     ],\n       [   518.96202532,    364.992     ],\n       ...,\n       [   246.25316456,    122.112     ],\n       [ -1126.2721519 ,   -849.916     ],\n       [-19916.29113924, -14551.752     ]])"
     },
     "execution_count": 9,
     "metadata": {},
     "output_type": "execute_result"
    }
   ],
   "source": [
    "mat_file['eyeData'].all()"
   ],
   "metadata": {
    "collapsed": false,
    "ExecuteTime": {
     "end_time": "2023-09-12T07:14:59.133855Z",
     "start_time": "2023-09-12T07:14:59.127742Z"
    }
   },
   "id": "893153fa94885f5b"
  },
  {
   "cell_type": "code",
   "execution_count": null,
   "outputs": [],
   "source": [],
   "metadata": {
    "collapsed": false
   },
   "id": "b2f92f899a3fc9fe"
  }
 ],
 "metadata": {
  "kernelspec": {
   "display_name": "Python 3",
   "language": "python",
   "name": "python3"
  },
  "language_info": {
   "codemirror_mode": {
    "name": "ipython",
    "version": 2
   },
   "file_extension": ".py",
   "mimetype": "text/x-python",
   "name": "python",
   "nbconvert_exporter": "python",
   "pygments_lexer": "ipython2",
   "version": "2.7.6"
  }
 },
 "nbformat": 4,
 "nbformat_minor": 5
}
